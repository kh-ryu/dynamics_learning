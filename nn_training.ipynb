{
 "cells": [
  {
   "cell_type": "markdown",
   "metadata": {},
   "source": [
    "# Training quadcopter dynamics\n",
    "\n",
    "number of fully connected layers: 2\n",
    "Depth of fully connected layers(number of output) = 512\n",
    "use relu\n",
    "Batch size 512\n",
    "lr: 0.001\n",
    "nEpoch: 20\n",
    "\n",
    "neural network: input the current state and current input => outputs next state\n"
   ]
  },
  {
   "cell_type": "code",
   "execution_count": 46,
   "metadata": {},
   "outputs": [],
   "source": [
    "import numpy as np\n",
    "import torch\n",
    "import torch.nn as nn\n",
    "import torch.nn.functional as F\n",
    "import matplotlib\n",
    "\n",
    "from torch.utils.data import DataLoader\n",
    "import torch.optim as optim"
   ]
  },
  {
   "cell_type": "code",
   "execution_count": 47,
   "metadata": {},
   "outputs": [
    {
     "name": "stdout",
     "output_type": "stream",
     "text": [
      "Using PyTorch version: 1.12.1, Device: cpu\n"
     ]
    }
   ],
   "source": [
    "DEVICE = torch.device('cuda') if torch.cuda.is_available() else torch.device('cpu')\n",
    "\n",
    "print(\"Using PyTorch version: {}, Device: {}\".format(torch.__version__, DEVICE))"
   ]
  },
  {
   "cell_type": "code",
   "execution_count": 48,
   "metadata": {},
   "outputs": [],
   "source": [
    "class nn_Dynamics(nn.Module):\n",
    "    def __init__(self, input_state_dim, depth_fc_layer, output_state_dim):\n",
    "        super(nn_Dynamics, self).__init__()\n",
    "        self.fc1 = nn.Linear(input_state_dim, depth_fc_layer, bias=True).double()\n",
    "        nn.init.xavier_normal_(self.fc1.weight)\n",
    "\n",
    "        self.fc2 = nn.Linear(depth_fc_layer, depth_fc_layer, bias=True).double()\n",
    "        nn.init.xavier_normal_(self.fc2.weight)\n",
    "        \n",
    "        self.output_layer = nn.Linear(depth_fc_layer, output_state_dim, bias=True).double()\n",
    "        nn.init.xavier_normal_(self.output_layer.weight)\n",
    "\n",
    "    def forward(self, input_states):\n",
    "        x = self.fc1(input_states)\n",
    "        x = F.relu(x)\n",
    "        x = self.fc2(x)\n",
    "        x = F.relu(x)\n",
    "        output = self.output_layer(x)\n",
    "\n",
    "        return output"
   ]
  },
  {
   "cell_type": "code",
   "execution_count": 49,
   "metadata": {},
   "outputs": [],
   "source": [
    "state = np.genfromtxt('state_history.csv',delimiter=',')\n",
    "input = np.genfromtxt('input_history.csv',delimiter=',')\n",
    "\n",
    "current_state = state[:-1,:]\n",
    "input = input[:-1,:]\n",
    "next_state = state[1:,:]\n",
    "\n",
    "dataX = np.append(current_state,input,axis=1)\n",
    "dataY = next_state\n",
    "\n",
    "train_data = []\n",
    "for i in range(len(dataX)):\n",
    "    train_data.append([dataX[i],dataY[i]])\n",
    "\n",
    "trainloader = DataLoader(train_data, shuffle=True, batch_size=24)\n"
   ]
  },
  {
   "cell_type": "code",
   "execution_count": 50,
   "metadata": {},
   "outputs": [
    {
     "name": "stdout",
     "output_type": "stream",
     "text": [
      "torch.Size([24, 16]) torch.DoubleTensor\n",
      "torch.Size([24, 12]) torch.DoubleTensor\n"
     ]
    }
   ],
   "source": [
    "for (X_train, y_train) in trainloader:\n",
    "    print(X_train.size(),X_train.type())\n",
    "    print(y_train.size(),y_train.type())\n",
    "    break"
   ]
  },
  {
   "cell_type": "code",
   "execution_count": 51,
   "metadata": {},
   "outputs": [],
   "source": [
    "model = nn_Dynamics(input_state_dim=16, depth_fc_layer=512, output_state_dim=12).to(DEVICE)\n",
    "optimizer = optim.Adam(model.parameters(),lr=0.001)\n",
    "criterion = nn.MSELoss()"
   ]
  },
  {
   "cell_type": "code",
   "execution_count": 52,
   "metadata": {},
   "outputs": [],
   "source": [
    "def train(nn_Dynamics, trainloader, optimizeer):\n",
    "    model.train()\n",
    "    training_loss_list = []\n",
    "    train_loss = 0    \n",
    "\n",
    "    for (state_inputs, next_states) in trainloader:\n",
    "        state_inputs = state_inputs.to(DEVICE)\n",
    "        next_states = next_states.to(DEVICE)\n",
    "        optimizer.zero_grad()\n",
    "        output = nn_Dynamics(state_inputs)\n",
    "        loss = criterion(output, next_states)\n",
    "        loss.backward()\n",
    "        train_loss += loss.item()\n",
    "        optimizer.step()\n",
    "        training_loss_list.append(train_loss)\n",
    "    \n",
    "    print(sum(training_loss_list))\n"
   ]
  },
  {
   "cell_type": "code",
   "execution_count": 54,
   "metadata": {},
   "outputs": [
    {
     "name": "stdout",
     "output_type": "stream",
     "text": [
      "10.331615970748686\n",
      "12.96269165998383\n",
      "10.311767611200358\n",
      "14.321649384767237\n",
      "9.825679227375241\n",
      "3.618692672458381\n",
      "3.2253581508414193\n",
      "3.757046859490706\n",
      "5.579842044038995\n",
      "4.57942744163356\n",
      "3.99690849117002\n",
      "6.496032056214091\n",
      "11.790708138144488\n",
      "7.366344692703697\n",
      "6.505735504779219\n",
      "4.0908439573451405\n",
      "4.627331346182234\n",
      "9.805041963173881\n",
      "6.09699621456753\n",
      "9.330180681293086\n",
      "11.83007341161839\n",
      "5.164875249485742\n",
      "5.7257527550620155\n",
      "6.631530273818324\n",
      "10.576626158752896\n",
      "18.462124153022785\n",
      "10.105590745865172\n",
      "7.108636339723925\n",
      "3.032956325306692\n",
      "1.8157112111458755\n",
      "1.818215654753011\n",
      "2.09227382898952\n",
      "6.515605619602836\n",
      "33.79143961499399\n",
      "4.746084541613979\n",
      "4.798428356392463\n",
      "7.12763777327447\n",
      "4.079965418150535\n",
      "2.2609685397757744\n",
      "3.5250582325968582\n",
      "7.45576582338109\n",
      "10.263649877225564\n",
      "9.60180235278855\n",
      "4.785030572332917\n",
      "3.7106216373607763\n",
      "3.7549912522597917\n",
      "3.936738147020903\n",
      "8.707796925104255\n",
      "7.528240074061032\n",
      "7.568262474961299\n",
      "3.4018653521620967\n",
      "3.0900417209894098\n",
      "3.606005827706184\n",
      "5.375392822962275\n",
      "7.926439853831686\n",
      "4.023943012618968\n",
      "4.8309556326322545\n",
      "6.150679152275945\n",
      "3.5304911683838203\n",
      "3.175169498459082\n",
      "2.298107544426816\n",
      "3.328214559052562\n",
      "2.0180942162805433\n",
      "3.11715360889582\n",
      "5.0511946814957405\n",
      "5.831025609704217\n",
      "6.006593983034969\n",
      "5.825285155039647\n",
      "9.730786488639534\n",
      "6.596057480202477\n",
      "4.7843799744255096\n",
      "2.0997393544007688\n",
      "3.649683359056952\n",
      "1.571299906014548\n",
      "4.3388318710913\n",
      "10.263024918335045\n",
      "6.565670752857923\n",
      "4.628730639388009\n",
      "6.373456475711241\n",
      "4.170754891663509\n",
      "3.3550380283226344\n",
      "5.4308407295340775\n",
      "2.6059858284355277\n",
      "3.319424302795019\n",
      "2.470487421992713\n",
      "1.980537546272057\n",
      "8.678762833088028\n",
      "7.422635462291354\n",
      "3.1935299891267\n",
      "1.6479492221704843\n",
      "18.370621627616295\n",
      "9.167203257103935\n",
      "1.8457547155351561\n",
      "1.6572947696765234\n",
      "2.935686350816262\n",
      "3.0077782693039503\n",
      "1.8280955419999687\n",
      "1.9531264103493577\n",
      "4.551472307016564\n",
      "5.71383144544475\n"
     ]
    }
   ],
   "source": [
    "EPOCHS = 100\n",
    "\n",
    "for epoch in range(1, EPOCHS + 1):\n",
    "    train(model, trainloader, optimizer)"
   ]
  }
 ],
 "metadata": {
  "kernelspec": {
   "display_name": "Python 3.10.6 64-bit",
   "language": "python",
   "name": "python3"
  },
  "language_info": {
   "codemirror_mode": {
    "name": "ipython",
    "version": 3
   },
   "file_extension": ".py",
   "mimetype": "text/x-python",
   "name": "python",
   "nbconvert_exporter": "python",
   "pygments_lexer": "ipython3",
   "version": "3.10.6"
  },
  "orig_nbformat": 4,
  "vscode": {
   "interpreter": {
    "hash": "aee8b7b246df8f9039afb4144a1f6fd8d2ca17a180786b69acc140d282b71a49"
   }
  }
 },
 "nbformat": 4,
 "nbformat_minor": 2
}
